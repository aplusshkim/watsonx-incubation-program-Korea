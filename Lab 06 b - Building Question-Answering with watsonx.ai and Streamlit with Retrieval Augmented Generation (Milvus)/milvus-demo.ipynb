{
 "cells": [
  {
   "cell_type": "code",
   "execution_count": 1,
   "id": "0f0f3604",
   "metadata": {},
   "outputs": [
    {
     "data": {
      "text/plain": [
       "True"
      ]
     },
     "execution_count": 1,
     "metadata": {},
     "output_type": "execute_result"
    }
   ],
   "source": [
    "import os\n",
    "from dotenv import load_dotenv\n",
    "load_dotenv()"
   ]
  },
  {
   "cell_type": "markdown",
   "id": "e129332a",
   "metadata": {},
   "source": [
    "# Milvus to manage vector datasets\n",
    "Milvus work as vector store to enable quick document queries. We compute document embeddings using a small BERT model for semantic search."
   ]
  },
  {
   "cell_type": "markdown",
   "id": "3aa49fb6",
   "metadata": {},
   "source": [
    "### Download the dataset\n",
    "Put \"wikihow.csv\" dataset in the \"file\" directory. Please download in here URL: `https://ibm.box.com/s/8nvanf974t35d89cmibk75e3gc6d1pbo`"
   ]
  },
  {
   "cell_type": "code",
   "execution_count": 17,
   "id": "5ddab1cc-441f-4faf-a720-e1659352fb9f",
   "metadata": {},
   "outputs": [
    {
     "data": {
      "text/plain": [
       "'test.csv'"
      ]
     },
     "execution_count": 17,
     "metadata": {},
     "output_type": "execute_result"
    }
   ],
   "source": [
    "WH_PATH = \"test.csv\"\n",
    "WH_PATH"
   ]
  },
  {
   "cell_type": "markdown",
   "id": "38ccec82",
   "metadata": {},
   "source": [
    "### Load and check the data\n",
    "Observe that some of the data could be cleaner:\n",
    "- One of the titles seems to be mistakenly registered as a sectionLabel\n",
    "- Some odd codepoint choices, for example for apostrophes\n",
    "- Some titles end in spurious numbers"
   ]
  },
  {
   "cell_type": "code",
   "execution_count": 23,
   "id": "43aac5b3-1297-409a-8d21-ebd8c999557b",
   "metadata": {},
   "outputs": [],
   "source": [
    "import pandas\n",
    "doc = pandas.read_csv(WH_PATH)"
   ]
  },
  {
   "cell_type": "code",
   "execution_count": 24,
   "id": "8c910054-43a7-4331-876a-ff5cd23e3b0b",
   "metadata": {},
   "outputs": [
    {
     "data": {
      "text/html": [
       "<div>\n",
       "<style scoped>\n",
       "    .dataframe tbody tr th:only-of-type {\n",
       "        vertical-align: middle;\n",
       "    }\n",
       "\n",
       "    .dataframe tbody tr th {\n",
       "        vertical-align: top;\n",
       "    }\n",
       "\n",
       "    .dataframe thead th {\n",
       "        text-align: right;\n",
       "    }\n",
       "</style>\n",
       "<table border=\"1\" class=\"dataframe\">\n",
       "  <thead>\n",
       "    <tr style=\"text-align: right;\">\n",
       "      <th></th>\n",
       "      <th>id</th>\n",
       "      <th>revid</th>\n",
       "      <th>url</th>\n",
       "      <th>title</th>\n",
       "      <th>text</th>\n",
       "    </tr>\n",
       "  </thead>\n",
       "  <tbody>\n",
       "    <tr>\n",
       "      <th>0</th>\n",
       "      <td>5</td>\n",
       "      <td>595831</td>\n",
       "      <td>https://ko.wikipedia.org/wiki?curid=5</td>\n",
       "      <td>지미 카터</td>\n",
       "      <td>제임스 얼 카터 주니어(, 1924년 10월 1일 ~ )는 민주당 출신 미국 39대...</td>\n",
       "    </tr>\n",
       "    <tr>\n",
       "      <th>1</th>\n",
       "      <td>9</td>\n",
       "      <td>221042</td>\n",
       "      <td>https://ko.wikipedia.org/wiki?curid=9</td>\n",
       "      <td>수학</td>\n",
       "      <td>수학(數學, , 줄여서 math)은 수, 양, 구조, 공간, 변화 등의 개념을 다루...</td>\n",
       "    </tr>\n",
       "    <tr>\n",
       "      <th>2</th>\n",
       "      <td>10</td>\n",
       "      <td>123884</td>\n",
       "      <td>https://ko.wikipedia.org/wiki?curid=10</td>\n",
       "      <td>수학 상수</td>\n",
       "      <td>수학에서 상수란 그 값이 변하지 않는 불변량으로, 변수의 반대말이다. 물리 상수와는...</td>\n",
       "    </tr>\n",
       "    <tr>\n",
       "      <th>3</th>\n",
       "      <td>19</td>\n",
       "      <td>22169</td>\n",
       "      <td>https://ko.wikipedia.org/wiki?curid=19</td>\n",
       "      <td>문학</td>\n",
       "      <td>문학(文學, )은 언어를 예술적 표현의 제재로 삼아 새로운 의미를 창출하여, 인간과...</td>\n",
       "    </tr>\n",
       "    <tr>\n",
       "      <th>4</th>\n",
       "      <td>20</td>\n",
       "      <td>529523</td>\n",
       "      <td>https://ko.wikipedia.org/wiki?curid=20</td>\n",
       "      <td>나라 목록</td>\n",
       "      <td>이 목록에 실린 국가 기준은 1933년 몬테비데오 협약 1장을 참고로 하였다. 협정...</td>\n",
       "    </tr>\n",
       "  </tbody>\n",
       "</table>\n",
       "</div>"
      ],
      "text/plain": [
       "   id   revid                                     url  title  \\\n",
       "0   5  595831   https://ko.wikipedia.org/wiki?curid=5  지미 카터   \n",
       "1   9  221042   https://ko.wikipedia.org/wiki?curid=9     수학   \n",
       "2  10  123884  https://ko.wikipedia.org/wiki?curid=10  수학 상수   \n",
       "3  19   22169  https://ko.wikipedia.org/wiki?curid=19     문학   \n",
       "4  20  529523  https://ko.wikipedia.org/wiki?curid=20  나라 목록   \n",
       "\n",
       "                                                text  \n",
       "0  제임스 얼 카터 주니어(, 1924년 10월 1일 ~ )는 민주당 출신 미국 39대...  \n",
       "1  수학(數學, , 줄여서 math)은 수, 양, 구조, 공간, 변화 등의 개념을 다루...  \n",
       "2  수학에서 상수란 그 값이 변하지 않는 불변량으로, 변수의 반대말이다. 물리 상수와는...  \n",
       "3  문학(文學, )은 언어를 예술적 표현의 제재로 삼아 새로운 의미를 창출하여, 인간과...  \n",
       "4  이 목록에 실린 국가 기준은 1933년 몬테비데오 협약 1장을 참고로 하였다. 협정...  "
      ]
     },
     "execution_count": 24,
     "metadata": {},
     "output_type": "execute_result"
    }
   ],
   "source": [
    "doc.head()"
   ]
  },
  {
   "cell_type": "code",
   "execution_count": 95,
   "id": "07b2e620-ad72-40a8-8409-dd994eca2a0a",
   "metadata": {},
   "outputs": [
    {
     "data": {
      "text/plain": [
       "'지미 카터'"
      ]
     },
     "execution_count": 95,
     "metadata": {},
     "output_type": "execute_result"
    }
   ],
   "source": []
  },
  {
   "cell_type": "code",
   "execution_count": 25,
   "id": "08d9ad64-46db-4d71-806f-95a93ef5b379",
   "metadata": {},
   "outputs": [
    {
     "data": {
      "text/html": [
       "<div>\n",
       "<style scoped>\n",
       "    .dataframe tbody tr th:only-of-type {\n",
       "        vertical-align: middle;\n",
       "    }\n",
       "\n",
       "    .dataframe tbody tr th {\n",
       "        vertical-align: top;\n",
       "    }\n",
       "\n",
       "    .dataframe thead th {\n",
       "        text-align: right;\n",
       "    }\n",
       "</style>\n",
       "<table border=\"1\" class=\"dataframe\">\n",
       "  <thead>\n",
       "    <tr style=\"text-align: right;\">\n",
       "      <th></th>\n",
       "      <th>title</th>\n",
       "      <th>text</th>\n",
       "    </tr>\n",
       "  </thead>\n",
       "  <tbody>\n",
       "    <tr>\n",
       "      <th>0</th>\n",
       "      <td>지미 카터</td>\n",
       "      <td>제임스 얼 카터 주니어(, 1924년 10월 1일 ~ )는 민주당 출신 미국 39대...</td>\n",
       "    </tr>\n",
       "    <tr>\n",
       "      <th>1</th>\n",
       "      <td>수학</td>\n",
       "      <td>수학(數學, , 줄여서 math)은 수, 양, 구조, 공간, 변화 등의 개념을 다루...</td>\n",
       "    </tr>\n",
       "    <tr>\n",
       "      <th>2</th>\n",
       "      <td>수학 상수</td>\n",
       "      <td>수학에서 상수란 그 값이 변하지 않는 불변량으로, 변수의 반대말이다. 물리 상수와는...</td>\n",
       "    </tr>\n",
       "    <tr>\n",
       "      <th>3</th>\n",
       "      <td>문학</td>\n",
       "      <td>문학(文學, )은 언어를 예술적 표현의 제재로 삼아 새로운 의미를 창출하여, 인간과...</td>\n",
       "    </tr>\n",
       "    <tr>\n",
       "      <th>4</th>\n",
       "      <td>나라 목록</td>\n",
       "      <td>이 목록에 실린 국가 기준은 1933년 몬테비데오 협약 1장을 참고로 하였다. 협정...</td>\n",
       "    </tr>\n",
       "  </tbody>\n",
       "</table>\n",
       "</div>"
      ],
      "text/plain": [
       "   title                                               text\n",
       "0  지미 카터  제임스 얼 카터 주니어(, 1924년 10월 1일 ~ )는 민주당 출신 미국 39대...\n",
       "1     수학  수학(數學, , 줄여서 math)은 수, 양, 구조, 공간, 변화 등의 개념을 다루...\n",
       "2  수학 상수  수학에서 상수란 그 값이 변하지 않는 불변량으로, 변수의 반대말이다. 물리 상수와는...\n",
       "3     문학  문학(文學, )은 언어를 예술적 표현의 제재로 삼아 새로운 의미를 창출하여, 인간과...\n",
       "4  나라 목록  이 목록에 실린 국가 기준은 1933년 몬테비데오 협약 1장을 참고로 하였다. 협정..."
      ]
     },
     "execution_count": 25,
     "metadata": {},
     "output_type": "execute_result"
    }
   ],
   "source": [
    "doc_indexed = doc.drop(columns=[\"id\",\"revid\",\"url\"])\n",
    "doc_indexed.head()"
   ]
  },
  {
   "cell_type": "markdown",
   "id": "e4420c92",
   "metadata": {},
   "source": [
    "### Create Milvus connection\n",
    "We will interact with our Milvus instance using the official pymilvus library. Alternatively, it is possible to use LangChain's Milvus vectorstores class to add documents instance. In that case, a simple `from_documents` or `from_texts` (or similar) will generate the collection using the correct settings expected by LangChain."
   ]
  },
  {
   "cell_type": "code",
   "execution_count": 128,
   "id": "b81a6664-fd97-4423-aa13-61177669b47f",
   "metadata": {},
   "outputs": [],
   "source": [
    "# Milvus requires a connection for all operations. Remember to disconnect at the end.\n",
    "\n",
    "# from pymilvus import connections\n",
    "# connections.connect(\n",
    "#   alias=\"default\",\n",
    "#   host=os.getenv(\"MILVUS_HOST\", None),\n",
    "#   port=os.getenv(\"MILVUS_PORT\", None)\n",
    "# )\n",
    "\n",
    "from pymilvus import connections\n",
    "connections.connect(\n",
    "  alias=\"default\",\n",
    "  host=\"127.0.0.1\",\n",
    "  port=\"19530\"\n",
    ")"
   ]
  },
  {
   "cell_type": "markdown",
   "id": "78702ade",
   "metadata": {},
   "source": [
    "### Create schema for the milvus store\n",
    "If a collection with the same name but a different schema exists, Milvus may throw a SchemaNotReady exception.\n",
    "Also the text fields' max length is in bytes not characters. Even though it's possible to get the byte size of the string and trim it to fit the byte limits in the schema, there are finicky bits and it's better to simply set limits to the max allowable (65535).\n",
    "\n",
    "fields in the collection must follow some special rules:\n",
    "- The primary key must be called pk\n",
    "- The vector must be called vector\n",
    "- The text entry must be called text"
   ]
  },
  {
   "cell_type": "code",
   "execution_count": 129,
   "id": "db88a07a",
   "metadata": {},
   "outputs": [],
   "source": [
    "from pymilvus import CollectionSchema, FieldSchema, DataType, Collection, utility"
   ]
  },
  {
   "cell_type": "code",
   "execution_count": 130,
   "id": "5839b714-a914-4ec0-a368-2546586b4fb2",
   "metadata": {},
   "outputs": [],
   "source": [
    "# Milvus also supports schemaless operations if `enable_dynamic_fields=True`.\n",
    "\n",
    "MAX_TITLE = 512\n",
    "MAX_TEXT = 2048\n",
    "MAX_VEC = 384\n",
    "\n",
    "NAME = \"kowiki\"\n",
    "\n",
    "if NAME in utility.list_collections():\n",
    "    whcollection = Collection(NAME)\n",
    "    whcollection.drop()\n",
    "\n",
    "whschema = CollectionSchema(\n",
    "    fields=[\n",
    "        FieldSchema(name=\"pk\", dtype=DataType.INT64, is_primary=True, auto_id=True),\n",
    "        FieldSchema(name=\"title\", dtype=DataType.VARCHAR, max_length=65535, default_value=\"\"),\n",
    "        FieldSchema(name=\"text\", dtype=DataType.VARCHAR, max_length=65535, default_value=\"\"),\n",
    "        FieldSchema(name=\"vector\", dtype=DataType.FLOAT_VECTOR, dim=MAX_VEC)\n",
    "    ],\n",
    "    enable_dynamic_fields=False,\n",
    "    description=\"kowiki collection\"\n",
    ")\n"
   ]
  },
  {
   "cell_type": "code",
   "execution_count": 131,
   "id": "fd59fdb7-c942-4f5b-9491-4eb13b3e55e1",
   "metadata": {},
   "outputs": [],
   "source": [
    "whcollection = Collection(\n",
    "    name=NAME,\n",
    "    schema=whschema,\n",
    "    consistency_level=\"Session\" # Make sure we read our own writes, otherwise allowed to be a bit out of date.\n",
    ")"
   ]
  },
  {
   "cell_type": "markdown",
   "id": "8f15c4ef",
   "metadata": {},
   "source": [
    "### Batch-wise insertion into milvus\n",
    "Use small BERT model to compute embeddings for our documents to place in the milvus store.\n",
    "\n",
    "The choice of batch size in this example is arbitrary, and a double-batch system may be preferable to accomodate both the embedding model and milvus.\n",
    "\n",
    "When the embedding model runs on GPU, the batch size should be selected so as to optimize the transfer-to-memory vs runtime overheads (too small and a major amount of time will be wasted on memory transfers instead of embedding proper, too large and it won't fit on the device).\n",
    "If the model is accessed over the network, the batch size should be selected with the same concerns in mind, although further overhead may be incurred depending on how the model is scheduled or how the API is designed.\n",
    "\n",
    "With regard to milvus, the idea is the same: a batch size that's too small means incurring milvus' operational overhead along with communication overhead. The other tradeoff of note regards any temporary processing or data streaming that may occur: a higher batch size also implies loading more data into memory and possibly generating longer-lasting temporary artifacts before submitting the data to milvus, after which it can all be discarded.\n",
    "\n"
   ]
  },
  {
   "cell_type": "markdown",
   "id": "ef849007",
   "metadata": {},
   "source": [
    "### Load embeddings\n",
    "use HuggingFaceEmbeddings with the MiniLM BERT model."
   ]
  },
  {
   "cell_type": "code",
   "execution_count": 132,
   "id": "4506fa1e",
   "metadata": {},
   "outputs": [],
   "source": [
    "import langchain\n",
    "from langchain.embeddings import HuggingFaceEmbeddings"
   ]
  },
  {
   "cell_type": "code",
   "execution_count": 133,
   "id": "f20c8de7",
   "metadata": {},
   "outputs": [],
   "source": [
    "embeddings = HuggingFaceEmbeddings(model_name='all-MiniLM-L6-v2')"
   ]
  },
  {
   "cell_type": "code",
   "execution_count": 91,
   "id": "1a1948d7",
   "metadata": {},
   "outputs": [
    {
     "name": "stdout",
     "output_type": "stream",
     "text": [
      "0\n"
     ]
    }
   ],
   "source": [
    "# entries = [[] for _ in range(3)]\n",
    "# for index,data_row in doc_indexed.iterrows():\n",
    "#     row_title = data_row['title']\n",
    "#     row_text =data_row['text']\n",
    "#     if type(row_title) is not str or type(row_text) is not str:\n",
    "#         continue\n",
    "#     entries[0].append(row_title)\n",
    "#     entries[1].append(row_text)\n",
    "#     entries[2].append(embeddings.embed_documents(data_row['title'])[0])\n",
    "#     whcollection.insert(entries)"
   ]
  },
  {
   "cell_type": "code",
   "execution_count": 134,
   "id": "9fdbf042-e307-4d42-bd11-af01ac61a0d1",
   "metadata": {},
   "outputs": [
    {
     "name": "stdout",
     "output_type": "stream",
     "text": [
      "from 0 to 10000\n",
      "current index: 0\n",
      "current index: 2500\n",
      "current index: 5000\n",
      "current index: 7500\n",
      "current batch input length: 7287\n",
      "from 10000 to 20000\n",
      "current index: 10000\n",
      "current index: 12500\n",
      "current index: 15000\n",
      "current batch input length: 6694\n",
      "from 20000 to 30000\n",
      "current index: 22500\n",
      "current index: 27500\n",
      "current batch input length: 6252\n",
      "from 30000 to 40000\n",
      "current index: 35000\n",
      "current index: 37500\n",
      "current batch input length: 6082\n",
      "from 40000 to 50000\n",
      "current index: 45000\n",
      "current index: 47500\n",
      "current batch input length: 5957\n",
      "from 50000 to 60000\n",
      "current index: 50000\n",
      "current batch input length: 5233\n",
      "from 60000 to 70000\n",
      "current index: 62500\n",
      "current index: 67500\n",
      "current batch input length: 4360\n",
      "from 70000 to 80000\n",
      "current index: 72500\n",
      "current index: 75000\n",
      "current batch input length: 5393\n",
      "from 80000 to 90000\n",
      "current index: 80000\n",
      "current index: 82500\n",
      "current index: 85000\n",
      "current index: 87500\n",
      "current batch input length: 5400\n",
      "from 90000 to 100000\n",
      "current index: 97500\n",
      "current batch input length: 4848\n",
      "from 100000 to 110000\n",
      "current index: 100000\n",
      "current index: 102500\n",
      "current index: 105000\n",
      "current batch input length: 5191\n",
      "from 110000 to 120000\n",
      "current index: 110000\n",
      "current index: 112500\n",
      "current index: 115000\n",
      "current index: 117500\n",
      "current batch input length: 5427\n",
      "from 120000 to 130000\n",
      "current index: 122500\n",
      "current index: 125000\n",
      "current batch input length: 5114\n",
      "from 130000 to 140000\n",
      "current batch input length: 4368\n",
      "from 140000 to 150000\n",
      "current index: 142500\n",
      "current index: 147500\n",
      "current batch input length: 4959\n",
      "from 150000 to 160000\n",
      "current index: 150000\n",
      "current batch input length: 5573\n",
      "from 160000 to 170000\n",
      "current index: 162500\n",
      "current index: 165000\n",
      "current index: 167500\n",
      "current batch input length: 6057\n",
      "from 170000 to 180000\n",
      "current index: 172500\n",
      "current index: 175000\n",
      "current index: 177500\n",
      "current batch input length: 5542\n",
      "from 180000 to 190000\n",
      "current index: 180000\n",
      "current index: 185000\n",
      "current index: 187500\n",
      "current batch input length: 5297\n",
      "from 190000 to 200000\n",
      "current index: 195000\n",
      "current index: 197500\n",
      "current batch input length: 5472\n"
     ]
    }
   ],
   "source": [
    "def batch_process(num_index,num_batch,table):\n",
    "    print(\"from %d to %d\" % (num_index,num_index+num_batch)) \n",
    "    entries = [[] for _ in range(3)]\n",
    "    for index in range(num_index,num_index+num_batch):\n",
    "        if type(table.loc[index]['title']) is not str or type(table.loc[index]['text']) is not str:\n",
    "            continue\n",
    "        title_len_diff = len(doc_indexed.loc[index]['title'].encode(\"utf-16-le\"))-len(doc_indexed.loc[index]['title'])\n",
    "        text_len_diff  = len(doc_indexed.loc[index]['text'].encode(\"utf-16-le\"))-len(doc_indexed.loc[index]['text'])\n",
    "        entries[0].append(table.loc[index]['title'][:MAX_TITLE-title_len_diff])\n",
    "        entries[1].append(table.loc[index]['text'][:MAX_TEXT-text_len_diff])\n",
    "        entries[2].append(embeddings.embed_documents(table.loc[index]['title'][:MAX_TITLE-title_len_diff])[0])\n",
    "        if (index-num_index) % int((num_batch/4)) ==0:\n",
    "            print(\"current index: %d\" % index)\n",
    "    whcollection.insert(entries)\n",
    "    print(\"current batch input length: %d\" % len(entries[0]))\n",
    "BATCH = 10000\n",
    "# process given input\n",
    "for i in range(0,200000,BATCH):\n",
    "    batch_process(i,BATCH,doc_indexed)"
   ]
  },
  {
   "cell_type": "code",
   "execution_count": 135,
   "id": "303555bd",
   "metadata": {},
   "outputs": [],
   "source": [
    "# Milvus will not seal segments that are too small, a flush is necessary to force it.\n",
    "whcollection.flush()"
   ]
  },
  {
   "cell_type": "markdown",
   "id": "363aed48",
   "metadata": {},
   "source": [
    "## Create index and connect\n",
    "Search can be accelerated significantly by creating an index on the vector. Here we use L2 similarity with a flat index using inverted files (`IVF_FLAT`).\n",
    "\n",
    "If using the langchain milvus store interface, now is a good time to disconnect as well. Otherwise, now is the time to load the collection."
   ]
  },
  {
   "cell_type": "code",
   "execution_count": 136,
   "id": "ab3a79c0",
   "metadata": {},
   "outputs": [
    {
     "data": {
      "text/plain": [
       "Status(code=0, message=)"
      ]
     },
     "execution_count": 136,
     "metadata": {},
     "output_type": "execute_result"
    }
   ],
   "source": [
    "whcollection.create_index(field_name=\"vector\", index_params={\"metric_type\": \"L2\", \"index_type\": \"IVF_FLAT\", \"nlist\": \"1024\"})"
   ]
  },
  {
   "cell_type": "code",
   "execution_count": 137,
   "id": "48112a98",
   "metadata": {},
   "outputs": [],
   "source": [
    "whcollection.load()\n",
    "# To actually use the data, we would have to do a `whcollection.load()` before any queries.\n",
    "# Once done with queries, we should then use `whcollection.release()` to stop using resources"
   ]
  },
  {
   "cell_type": "markdown",
   "id": "c912149f",
   "metadata": {},
   "source": [
    "## Disconnect\n",
    "Unload the collection to stop using up resources, then close the connection. We're done!"
   ]
  },
  {
   "cell_type": "code",
   "execution_count": 138,
   "id": "562559a1-0deb-478f-827c-f5825ef938fe",
   "metadata": {},
   "outputs": [],
   "source": [
    "whcollection.release()\n",
    "connections.disconnect(\"default\")"
   ]
  }
 ],
 "metadata": {
  "kernelspec": {
   "display_name": "Python 3 (ipykernel)",
   "language": "python",
   "name": "python3"
  },
  "language_info": {
   "codemirror_mode": {
    "name": "ipython",
    "version": 3
   },
   "file_extension": ".py",
   "mimetype": "text/x-python",
   "name": "python",
   "nbconvert_exporter": "python",
   "pygments_lexer": "ipython3",
   "version": "3.11.6"
  }
 },
 "nbformat": 4,
 "nbformat_minor": 5
}
