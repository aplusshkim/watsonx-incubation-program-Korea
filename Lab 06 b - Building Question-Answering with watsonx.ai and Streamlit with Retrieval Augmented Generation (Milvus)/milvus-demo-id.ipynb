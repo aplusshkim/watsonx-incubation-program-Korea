{
 "cells": [
  {
   "cell_type": "markdown",
   "metadata": {},
   "source": [
    "# Milvus를 활용한 임베딩 데이터 추출 및 저장"
   ]
  },
  {
   "cell_type": "code",
   "execution_count": 1,
   "id": "0f0f3604",
   "metadata": {},
   "outputs": [
    {
     "data": {
      "text/plain": [
       "True"
      ]
     },
     "execution_count": 1,
     "metadata": {},
     "output_type": "execute_result"
    }
   ],
   "source": [
    "import os\n",
    "from dotenv import load_dotenv\n",
    "load_dotenv()"
   ]
  },
  {
   "cell_type": "markdown",
   "id": "e129332a",
   "metadata": {},
   "source": [
    "# VectorDB 와 Milvus\n",
    "Milvus work as vector store to enable quick document queries. We compute document embeddings using a small BERT model for semantic search.\n",
    "Milvus 는 VectorDB로 주어진 문서를 자연어 임베딩을 기반으로 쿼리를 실행할 수 있도록 만들어 졌습니다. 이번 시간에는 자연어 모델인 BERT 모델의 소형 버전을 활용하여 시멘틱 서치를 하기 위한 준비작업을 해보겠습니다.\n"
   ]
  },
  {
   "cell_type": "markdown",
   "id": "3aa49fb6",
   "metadata": {},
   "source": [
    "### 데이터셋 다운로드\n",
    "\"wikihow.csv\" 데이터셋을 다운로드 받아 지정된 곳에 저장하세요. 다운로드 링크: `https://ibm.box.com/s/8nvanf974t35d89cmibk75e3gc6d1pbo` [TOBECHANGED]"
   ]
  },
  {
   "cell_type": "code",
   "execution_count": 2,
   "id": "5ddab1cc-441f-4faf-a720-e1659352fb9f",
   "metadata": {},
   "outputs": [
    {
     "data": {
      "text/plain": [
       "'wikihow.csv'"
      ]
     },
     "execution_count": 2,
     "metadata": {},
     "output_type": "execute_result"
    }
   ],
   "source": [
    "\n",
    "WH_PATH = \"wikihow.csv\"\n",
    "WH_PATH"
   ]
  },
  {
   "cell_type": "markdown",
   "id": "38ccec82",
   "metadata": {},
   "source": [
    "### 데이터 로딩 및 데이터 전처리\n",
    "현재 사용할 데이터에는 다음과 같은 문제가 있습니다:\n",
    "- titles 데이터가 sectionLabel 데이터로 등록된 경우\n",
    "- 아포스트로피와 같은 문장 부호의 잘못된 사용 사례\n",
    "- 가짜 번호로 끝나는 일부 제목"
   ]
  },
  {
   "cell_type": "code",
   "execution_count": 3,
   "id": "43aac5b3-1297-409a-8d21-ebd8c999557b",
   "metadata": {},
   "outputs": [],
   "source": [
    "import pandas\n",
    "doc = pandas.read_csv(WH_PATH)"
   ]
  },
  {
   "cell_type": "code",
   "execution_count": 4,
   "id": "a8033029-69ce-4ed9-9e28-19ab2fa70c7b",
   "metadata": {},
   "outputs": [],
   "source": [
    "doc_indexed = doc.set_index(['title', 'headline']).sort_index()"
   ]
  },
  {
   "cell_type": "code",
   "execution_count": 5,
   "id": "f9d09062-5915-42cf-9171-14bb7b7979e3",
   "metadata": {},
   "outputs": [
    {
     "data": {
      "text/html": [
       "<div>\n",
       "<style scoped>\n",
       "    .dataframe tbody tr th:only-of-type {\n",
       "        vertical-align: middle;\n",
       "    }\n",
       "\n",
       "    .dataframe tbody tr th {\n",
       "        vertical-align: top;\n",
       "    }\n",
       "\n",
       "    .dataframe thead th {\n",
       "        text-align: right;\n",
       "    }\n",
       "</style>\n",
       "<table border=\"1\" class=\"dataframe\">\n",
       "  <thead>\n",
       "    <tr style=\"text-align: right;\">\n",
       "      <th></th>\n",
       "      <th></th>\n",
       "      <th>overview</th>\n",
       "      <th>text</th>\n",
       "      <th>sectionLabel</th>\n",
       "    </tr>\n",
       "    <tr>\n",
       "      <th>title</th>\n",
       "      <th>headline</th>\n",
       "      <th></th>\n",
       "      <th></th>\n",
       "      <th></th>\n",
       "    </tr>\n",
       "  </thead>\n",
       "  <tbody>\n",
       "    <tr>\n",
       "      <th rowspan=\"4\" valign=\"top\">How to Zydeco</th>\n",
       "      <th>\\nTry a side step.</th>\n",
       "      <td>Zydeco dancing is type of Cajun dancing perfo...</td>\n",
       "      <td>If you already have the rock step down (or ev...</td>\n",
       "      <td>Adding Movement</td>\n",
       "    </tr>\n",
       "    <tr>\n",
       "      <th>\\nTry the open position.</th>\n",
       "      <td>Zydeco dancing is type of Cajun dancing perfo...</td>\n",
       "      <td>The open position is, as it sounds, much more...</td>\n",
       "      <td>Learning the Closed and Open Position</td>\n",
       "    </tr>\n",
       "    <tr>\n",
       "      <th>\\nUse a rock step.</th>\n",
       "      <td>Zydeco dancing is type of Cajun dancing perfo...</td>\n",
       "      <td>Often, you'll just be shifting your weight ba...</td>\n",
       "      <td>Adding Movement</td>\n",
       "    </tr>\n",
       "    <tr>\n",
       "      <th>\\nUse dance techniques for the extra beat.</th>\n",
       "      <td>Zydeco dancing is type of Cajun dancing perfo...</td>\n",
       "      <td>It can be hard to remember to hold for the ex...</td>\n",
       "      <td>Learning the Beat</td>\n",
       "    </tr>\n",
       "    <tr>\n",
       "      <th>NaN</th>\n",
       "      <th>\\nInsert the following into your &lt;head&gt; section:\\n\\n\\n\\n\\n\\n</th>\n",
       "      <td>Do you want to change the user's cursor when ...</td>\n",
       "      <td>Steps,Tips,Related wikiHows</td>\n",
       "      <td>How to Set Cursors for Webpage Links</td>\n",
       "    </tr>\n",
       "  </tbody>\n",
       "</table>\n",
       "</div>"
      ],
      "text/plain": [
       "                                                                                                           overview  \\\n",
       "title         headline                                                                                                \n",
       "How to Zydeco \\nTry a side step.                                   Zydeco dancing is type of Cajun dancing perfo...   \n",
       "              \\nTry the open position.                             Zydeco dancing is type of Cajun dancing perfo...   \n",
       "              \\nUse a rock step.                                   Zydeco dancing is type of Cajun dancing perfo...   \n",
       "              \\nUse dance techniques for the extra beat.           Zydeco dancing is type of Cajun dancing perfo...   \n",
       "NaN           \\nInsert the following into your <head> section...   Do you want to change the user's cursor when ...   \n",
       "\n",
       "                                                                                                               text  \\\n",
       "title         headline                                                                                                \n",
       "How to Zydeco \\nTry a side step.                                   If you already have the rock step down (or ev...   \n",
       "              \\nTry the open position.                             The open position is, as it sounds, much more...   \n",
       "              \\nUse a rock step.                                   Often, you'll just be shifting your weight ba...   \n",
       "              \\nUse dance techniques for the extra beat.           It can be hard to remember to hold for the ex...   \n",
       "NaN           \\nInsert the following into your <head> section...                        Steps,Tips,Related wikiHows   \n",
       "\n",
       "                                                                                           sectionLabel  \n",
       "title         headline                                                                                   \n",
       "How to Zydeco \\nTry a side step.                                                        Adding Movement  \n",
       "              \\nTry the open position.                            Learning the Closed and Open Position  \n",
       "              \\nUse a rock step.                                                        Adding Movement  \n",
       "              \\nUse dance techniques for the extra beat.                              Learning the Beat  \n",
       "NaN           \\nInsert the following into your <head> section...   How to Set Cursors for Webpage Links  "
      ]
     },
     "execution_count": 5,
     "metadata": {},
     "output_type": "execute_result"
    }
   ],
   "source": [
    "doc_indexed.tail()"
   ]
  },
  {
   "cell_type": "markdown",
   "id": "e4420c92",
   "metadata": {},
   "source": [
    "### Milvus DB connection \n",
    "Python에서 MilvusDB 연결하기 위해서는 공식 라이브러리인 pymilvus를 사용할 예정입니다. 혹은 LangChain의 Milvus 벡터스토어 클래스를 사용하여 문서 인스턴스를 추가할 수도 있습니다. "
   ]
  },
  {
   "cell_type": "code",
   "execution_count": 6,
   "id": "b81a6664-fd97-4423-aa13-61177669b47f",
   "metadata": {},
   "outputs": [],
   "source": [
    "# Milvus requires a connection for all operations. Remember to disconnect at the end.\n",
    "\n",
    "from pymilvus import connections\n",
    "connections.connect(\n",
    "  alias=\"default\",\n",
    "  host=\"127.0.0.1\", # YOUR IP\n",
    "  port=\"19530\"      # YOUR PORT\n",
    ")"
   ]
  },
  {
   "cell_type": "markdown",
   "id": "78702ade",
   "metadata": {},
   "source": [
    "### Milvus store에 DB schema 선언\n",
    "만약 collection 이름이 같지만 다른 schema가 선언된 경우 SchemaNotReady exception이 발생할 수 있으니, collection과 schema는 pair로 관리되어야 합니다.\n",
    "또한 텍스트 필드의 최대 길이는 문자가 아닌 바이트 단위로 계산됩니다. 문자열의 바이트 크기를 가져와 스키마의 바이트 제한에 맞게 잘라내어 DB성능의 향상을 꾀할 수도 있지만, DB내 생성될 record들의 데이터 길이에 대한 사전 정보가 없기 때문에 허용되는 최대값(65535)으로 제한을 설정하는 것이 좋습니다.\n",
    "\n",
    "\n",
    "특정 필드는 사전에 정의된 namespace를 지켜주어야 합니다.\n",
    "- primary key는 반드시 \"pk\"로 선언되어야 합니다.\n",
    "- 계산된 vector는 \"vector\"로 선언되어야 합니다.\n",
    "- text entry 는 반드시 \"text\"로 선언되어야 합니다."
   ]
  },
  {
   "cell_type": "code",
   "execution_count": 7,
   "id": "db88a07a",
   "metadata": {},
   "outputs": [],
   "source": [
    "from pymilvus import CollectionSchema, FieldSchema, DataType, Collection, utility"
   ]
  },
  {
   "cell_type": "code",
   "execution_count": 8,
   "id": "5839b714-a914-4ec0-a368-2546586b4fb2",
   "metadata": {},
   "outputs": [],
   "source": [
    "# Milvus also supports schemaless operations if `enable_dynamic_fields=True`.\n",
    "\n",
    "MAX_TITLE = 512\n",
    "MAX_TEXT = 1024\n",
    "MAX_VEC = 384\n",
    "\n",
    "NAME = \"WikiHow\"\n",
    "\n",
    "if NAME in utility.list_collections():\n",
    "    whcollection = Collection(NAME)\n",
    "    whcollection.drop()\n",
    "\n",
    "whschema = CollectionSchema(\n",
    "    fields=[\n",
    "        FieldSchema(name=\"pk\", dtype=DataType.INT64, is_primary=True, auto_id=True),\n",
    "        FieldSchema(name=\"title\", dtype=DataType.VARCHAR, max_length=65535, default_value=\"\"),\n",
    "        FieldSchema(name=\"text\", dtype=DataType.VARCHAR, max_length=65535, default_value=\"\"),\n",
    "        FieldSchema(name=\"vector\", dtype=DataType.FLOAT_VECTOR, dim=384)\n",
    "    ],\n",
    "    enable_dynamic_fields=False,\n",
    "    description=\"WikiHow collection\"\n",
    ")\n",
    "whcollection = Collection(\n",
    "    name=NAME,\n",
    "    schema=whschema,\n",
    "    consistency_level=\"Session\" # Make sure we read our own writes, otherwise allowed to be a bit out of date.\n",
    ")"
   ]
  },
  {
   "cell_type": "markdown",
   "id": "8f15c4ef",
   "metadata": {},
   "source": [
    "### MilvusDB 사용시 Batch 기반 입력\n",
    "작은 BERT 모델을 사용하여 Milvus store내 배치할 문서에 대한 임베딩을 계산할 예정입니다.\n",
    "\n",
    "이 예제에서 배치 크기 선택은 임의로 계산되었습니다. 사용자의 노트북 성능에 따라 최적의 Batch 연산 파라미터와 사용 가능한 모델이 다를 수 있습니다.\n",
    "\n",
    "When the embedding model runs on GPU, the batch size should be selected so as to optimize the transfer-to-memory vs runtime overheads (too small and a major amount of time will be wasted on memory transfers instead of embedding proper, too large and it won't fit on the device).\n",
    "If the model is accessed over the network, the batch size should be selected with the same concerns in mind, although further overhead may be incurred depending on how the model is scheduled or how the API is designed.\n",
    "\n",
    "\n",
    "임베딩 모델이 GPU에서 실행되는 경우, 배치 크기는 메모리로의 전송과 런타임 오버헤드를 최적화할 수 있도록 선택해야 합니다.(배치 크기가 너무 작으면 제대로 임베딩되지 않고 CPU,GPU간 메모리 전송에 많은 시간이 낭비되고, 너무 크면 실행될 수 없습니다).\n",
    "네트워크를 통해 모델에 액세스하는 경우, 모델 스케줄링 방식이나 API 설계 방식에 따라 추가 오버헤드가 발생할 수 있습니다.\n",
    "\n",
    "With regard to milvus, the idea is the same: a batch size that's too small means incurring milvus' operational overhead along with communication overhead. The other tradeoff of note regards any temporary processing or data streaming that may occur: a higher batch size also implies loading more data into memory and possibly generating longer-lasting temporary artifacts before submitting the data to milvus, after which it can all be discarded.\n",
    "MilvusDB에서도 record 입력 배치 크기가 너무 작으면 통신 오버헤드와 함께 MilvusDB의 운영 오버헤드가 발생할 수 있습니다. 배치 크기가 클수록 더 많은 데이터를 메모리에 로드하고 데이터를 밀버스에 저장하기 전에 더 오래 지속되는 임시 변수를 관리할 수 있어 record 입력이 용이합니다.\n"
   ]
  },
  {
   "cell_type": "markdown",
   "id": "ef849007",
   "metadata": {},
   "source": [
    "### 임베딩 모델 로딩\n",
    "HuggingFaceEmbeddings의 MiniLM BERT model을 사용하여 임베딩을 게산합니다."
   ]
  },
  {
   "cell_type": "code",
   "execution_count": 9,
   "id": "4506fa1e",
   "metadata": {},
   "outputs": [],
   "source": [
    "import langchain\n",
    "from langchain.embeddings import HuggingFaceEmbeddings"
   ]
  },
  {
   "cell_type": "code",
   "execution_count": 10,
   "id": "f20c8de7",
   "metadata": {},
   "outputs": [],
   "source": [
    "embeddings = HuggingFaceEmbeddings(model_name='all-MiniLM-L6-v2')"
   ]
  },
  {
   "cell_type": "code",
   "execution_count": 11,
   "id": "1a1948d7",
   "metadata": {},
   "outputs": [
    {
     "name": "stderr",
     "output_type": "stream",
     "text": [
      "100%|█████████████████████████████████████████████████████████████████████| 1585695/1585695 [2:31:20<00:00, 174.64it/s]\n"
     ]
    }
   ],
   "source": [
    "BATCH_SIZE = 2048\n",
    "\n",
    "batch = []\n",
    "def insert_data(data):\n",
    "    import math\n",
    "\n",
    "    batch = []\n",
    "\n",
    "    titles = list(data.keys())\n",
    "\n",
    "    vecs = embeddings.embed_documents(titles)\n",
    "    \n",
    "    entries = [[], [], []]\n",
    "\n",
    "    for b, title in enumerate(titles):\n",
    "        text = title + \":\\n\"\n",
    "        for cat in data[title]:\n",
    "            text += cat + \":\\n\"\n",
    "            text += \"\\n\".join(data[title][cat])\n",
    "            \n",
    "        title_len_diff = len(title.encode('utf-16-le')) - len(title)\n",
    "        text_len_diff = len(text.encode('utf-16-le')) - len(text)\n",
    "        entries[0].append(title[:MAX_TITLE - title_len_diff])\n",
    "        entries[1].append(text[:MAX_TEXT - text_len_diff])\n",
    "        entries[2].append(vecs[b])\n",
    "\n",
    "    whcollection.insert(entries)\n",
    "\n",
    "import collections, tqdm\n",
    "doc_data = collections.defaultdict(lambda: collections.defaultdict(list))\n",
    "for i in tqdm.tqdm(range(len(doc_indexed)), total=len(doc_indexed)):\n",
    "    if (type(doc_indexed.index[i][0]) is not str) or (type(doc_indexed.index[i][1]) is not str):\n",
    "        continue\n",
    "    die = False\n",
    "    for col in ['text', 'overview', 'sectionLabel']:\n",
    "        if type(doc_indexed.iloc[i][col]) is not str:\n",
    "            die = True\n",
    "            break\n",
    "    if die:\n",
    "        continue\n",
    "    section_head = doc_indexed.index[i][0] + \" (\" + doc_indexed.iloc[i]['overview'].strip() + \")\"\n",
    "    category = doc_indexed.index[i][1]\n",
    "    step = \" \".join(map(lambda x: x.strip(), doc_indexed.iloc[i][['sectionLabel', 'text']]))\n",
    "\n",
    "    if len(doc_data) % BATCH_SIZE == 1 and len(doc_data) != 1:\n",
    "        insert_data(doc_data)\n",
    "        doc_data = collections.defaultdict(lambda: collections.defaultdict(list))\n",
    "    doc_data[section_head][category].append(step)\n",
    "    if i == len(doc_indexed) - 1:\n",
    "        insert_data(doc_data)"
   ]
  },
  {
   "cell_type": "code",
   "execution_count": 12,
   "id": "303555bd",
   "metadata": {},
   "outputs": [],
   "source": [
    "# Milvus will not seal segments that are too small, a flush is necessary to force it.\n",
    "whcollection.flush()"
   ]
  },
  {
   "cell_type": "markdown",
   "id": "363aed48",
   "metadata": {},
   "source": [
    "## Vector 인덱싱후 쿼리\n",
    "벡터를 인덱싱하면 검색 속도를 크게 높일 수 있습니다. 여기서는 L2 norm과 flat indexing을 사용합니다. (파라미터: `IVF_FLAT`).\n",
    "\n",
    "collection을 로딩하게 되면 Milvus는 메모리에 해당 collection을 로드하며 다양한 connection에서 해당 collection에 대한 쿼리를 실행할 준비를 하게 됩니다.\n",
    "만약 langchain milvus store interface를 사용할 거라면 이후의 코드를 실행하지 마세요.\n",
    "\n"
   ]
  },
  {
   "cell_type": "code",
   "execution_count": 13,
   "id": "a7de1e19",
   "metadata": {},
   "outputs": [
    {
     "data": {
      "text/plain": [
       "Status(code=0, message=)"
      ]
     },
     "execution_count": 13,
     "metadata": {},
     "output_type": "execute_result"
    }
   ],
   "source": [
    "whcollection.create_index(field_name=\"vector\", index_params={\"metric_type\": \"L2\", \"index_type\": \"IVF_FLAT\", \"nlist\": \"1024\"})"
   ]
  },
  {
   "cell_type": "code",
   "execution_count": 14,
   "id": "48112a98",
   "metadata": {},
   "outputs": [],
   "source": [
    "whcollection.load()\n",
    "# To actually use the data, we would have to do a `whcollection.load()` before any queries.\n",
    "# Once done with queries, we should then use `whcollection.release()` to stop using resources"
   ]
  },
  {
   "cell_type": "markdown",
   "id": "c912149f",
   "metadata": {},
   "source": [
    "## Disconnect\n",
    "DB에 접속 후 사용한 connection은 반드시 중지 시키는게 좋습니다."
   ]
  },
  {
   "cell_type": "code",
   "execution_count": 15,
   "id": "562559a1-0deb-478f-827c-f5825ef938fe",
   "metadata": {},
   "outputs": [],
   "source": [
    "whcollection.release()\n",
    "connections.disconnect(\"default\")"
   ]
  },
  {
   "cell_type": "code",
   "execution_count": null,
   "id": "b28bf243-fe7d-4a8a-91b9-1bc0feba7dd9",
   "metadata": {},
   "outputs": [],
   "source": []
  }
 ],
 "metadata": {
  "kernelspec": {
   "display_name": "Python 3 (ipykernel)",
   "language": "python",
   "name": "python3"
  },
  "language_info": {
   "codemirror_mode": {
    "name": "ipython",
    "version": 3
   },
   "file_extension": ".py",
   "mimetype": "text/x-python",
   "name": "python",
   "nbconvert_exporter": "python",
   "pygments_lexer": "ipython3",
   "version": "3.11.6"
  }
 },
 "nbformat": 4,
 "nbformat_minor": 5
}
