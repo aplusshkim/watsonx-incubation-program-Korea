{
 "cells": [
  {
   "cell_type": "code",
   "execution_count": 3,
   "id": "282f25d1-1a08-43c3-bdfb-f124490a1d7e",
   "metadata": {},
   "outputs": [],
   "source": [
    "from ibm_watson import LanguageTranslatorV3\n",
    "from ibm_cloud_sdk_core.authenticators import IAMAuthenticator\n",
    "\n",
    "authenticator = IAMAuthenticator('u3M-36NZwZpOcN2JBw68tNGlBWL0ESqfjnTQIT8kEZlI')\n",
    "language_translator = LanguageTranslatorV3(\n",
    "    version='2018-05-01',\n",
    "    authenticator=authenticator\n",
    ")\n",
    "\n",
    "language_translator.set_service_url('https://api.us-east.language-translator.watson.cloud.ibm.com')\n"
   ]
  },
  {
   "cell_type": "code",
   "execution_count": 4,
   "id": "ce95a2f4-66a0-4f7f-80ea-3d1c107ee477",
   "metadata": {},
   "outputs": [
    {
     "ename": "ApiException",
     "evalue": "Error: Forbidden, Code: 403 , X-global-transaction-id: 472142dd-949c-402f-8c47-0bb6b052261b",
     "output_type": "error",
     "traceback": [
      "\u001b[1;31m---------------------------------------------------------------------------\u001b[0m",
      "\u001b[1;31mApiException\u001b[0m                              Traceback (most recent call last)",
      "Cell \u001b[1;32mIn[4], line 1\u001b[0m\n\u001b[1;32m----> 1\u001b[0m translation \u001b[38;5;241m=\u001b[39m \u001b[43mlanguage_translator\u001b[49m\u001b[38;5;241;43m.\u001b[39;49m\u001b[43mtranslate\u001b[49m\u001b[43m(\u001b[49m\n\u001b[0;32m      2\u001b[0m \u001b[43m    \u001b[49m\u001b[43mtext\u001b[49m\u001b[38;5;241;43m=\u001b[39;49m\u001b[38;5;124;43m'\u001b[39;49m\u001b[38;5;124;43mHello, how are you today?\u001b[39;49m\u001b[38;5;124;43m'\u001b[39;49m\u001b[43m,\u001b[49m\n\u001b[0;32m      3\u001b[0m \u001b[43m    \u001b[49m\u001b[43mmodel_id\u001b[49m\u001b[38;5;241;43m=\u001b[39;49m\u001b[38;5;124;43m'\u001b[39;49m\u001b[38;5;124;43men-es\u001b[39;49m\u001b[38;5;124;43m'\u001b[39;49m\u001b[43m)\u001b[49m\u001b[38;5;241m.\u001b[39mget_result()\n\u001b[0;32m      4\u001b[0m \u001b[38;5;28mprint\u001b[39m(json\u001b[38;5;241m.\u001b[39mdumps(translation, indent\u001b[38;5;241m=\u001b[39m\u001b[38;5;241m2\u001b[39m, ensure_ascii\u001b[38;5;241m=\u001b[39m\u001b[38;5;28;01mFalse\u001b[39;00m))\n",
      "File \u001b[1;32m~\\Desktop\\dev\\incubation\\GenAI_Incubation_watsonx\\lab-0-laptop-environment-setup\\.venv\\Lib\\site-packages\\ibm_watson\\language_translator_v3.py:200\u001b[0m, in \u001b[0;36mLanguageTranslatorV3.translate\u001b[1;34m(self, text, model_id, source, target, **kwargs)\u001b[0m\n\u001b[0;32m    193\u001b[0m url \u001b[38;5;241m=\u001b[39m \u001b[38;5;124m'\u001b[39m\u001b[38;5;124m/v3/translate\u001b[39m\u001b[38;5;124m'\u001b[39m\n\u001b[0;32m    194\u001b[0m request \u001b[38;5;241m=\u001b[39m \u001b[38;5;28mself\u001b[39m\u001b[38;5;241m.\u001b[39mprepare_request(method\u001b[38;5;241m=\u001b[39m\u001b[38;5;124m'\u001b[39m\u001b[38;5;124mPOST\u001b[39m\u001b[38;5;124m'\u001b[39m,\n\u001b[0;32m    195\u001b[0m                                url\u001b[38;5;241m=\u001b[39murl,\n\u001b[0;32m    196\u001b[0m                                headers\u001b[38;5;241m=\u001b[39mheaders,\n\u001b[0;32m    197\u001b[0m                                params\u001b[38;5;241m=\u001b[39mparams,\n\u001b[0;32m    198\u001b[0m                                data\u001b[38;5;241m=\u001b[39mdata)\n\u001b[1;32m--> 200\u001b[0m response \u001b[38;5;241m=\u001b[39m \u001b[38;5;28;43mself\u001b[39;49m\u001b[38;5;241;43m.\u001b[39;49m\u001b[43msend\u001b[49m\u001b[43m(\u001b[49m\u001b[43mrequest\u001b[49m\u001b[43m,\u001b[49m\u001b[43m \u001b[49m\u001b[38;5;241;43m*\u001b[39;49m\u001b[38;5;241;43m*\u001b[39;49m\u001b[43mkwargs\u001b[49m\u001b[43m)\u001b[49m\n\u001b[0;32m    201\u001b[0m \u001b[38;5;28;01mreturn\u001b[39;00m response\n",
      "File \u001b[1;32m~\\Desktop\\dev\\incubation\\GenAI_Incubation_watsonx\\lab-0-laptop-environment-setup\\.venv\\Lib\\site-packages\\ibm_cloud_sdk_core\\base_service.py:343\u001b[0m, in \u001b[0;36mBaseService.send\u001b[1;34m(self, request, **kwargs)\u001b[0m\n\u001b[0;32m    340\u001b[0m         \u001b[38;5;28;01mreturn\u001b[39;00m DetailedResponse(response\u001b[38;5;241m=\u001b[39mresult, headers\u001b[38;5;241m=\u001b[39mresponse\u001b[38;5;241m.\u001b[39mheaders, status_code\u001b[38;5;241m=\u001b[39mresponse\u001b[38;5;241m.\u001b[39mstatus_code)\n\u001b[0;32m    342\u001b[0m     \u001b[38;5;66;03m# Received error status code from server, raise an APIException.\u001b[39;00m\n\u001b[1;32m--> 343\u001b[0m     \u001b[38;5;28;01mraise\u001b[39;00m ApiException(response\u001b[38;5;241m.\u001b[39mstatus_code, http_response\u001b[38;5;241m=\u001b[39mresponse)\n\u001b[0;32m    344\u001b[0m \u001b[38;5;28;01mexcept\u001b[39;00m requests\u001b[38;5;241m.\u001b[39mexceptions\u001b[38;5;241m.\u001b[39mSSLError:\n\u001b[0;32m    345\u001b[0m     logger\u001b[38;5;241m.\u001b[39mexception(\u001b[38;5;28mself\u001b[39m\u001b[38;5;241m.\u001b[39mERROR_MSG_DISABLE_SSL)\n",
      "\u001b[1;31mApiException\u001b[0m: Error: Forbidden, Code: 403 , X-global-transaction-id: 472142dd-949c-402f-8c47-0bb6b052261b"
     ]
    }
   ],
   "source": [
    "translation = language_translator.translate(\n",
    "    text='Hello, how are you today?',\n",
    "    model_id='en-es').get_result()\n",
    "print(json.dumps(translation, indent=2, ensure_ascii=False))"
   ]
  },
  {
   "cell_type": "code",
   "execution_count": null,
   "id": "ca4313cf-cb32-413c-bd57-862161d67d63",
   "metadata": {},
   "outputs": [],
   "source": []
  },
  {
   "cell_type": "code",
   "execution_count": null,
   "id": "1850226e-6702-4953-8f2e-055723958443",
   "metadata": {},
   "outputs": [],
   "source": []
  },
  {
   "cell_type": "code",
   "execution_count": null,
   "id": "c3d310fe-82fe-43ba-bb4a-94a7620e9508",
   "metadata": {},
   "outputs": [],
   "source": []
  }
 ],
 "metadata": {
  "kernelspec": {
   "display_name": "Python 3 (ipykernel)",
   "language": "python",
   "name": "python3"
  },
  "language_info": {
   "codemirror_mode": {
    "name": "ipython",
    "version": 3
   },
   "file_extension": ".py",
   "mimetype": "text/x-python",
   "name": "python",
   "nbconvert_exporter": "python",
   "pygments_lexer": "ipython3",
   "version": "3.11.6"
  }
 },
 "nbformat": 4,
 "nbformat_minor": 5
}
